{
 "cells": [
  {
   "cell_type": "code",
   "execution_count": 4,
   "metadata": {},
   "outputs": [],
   "source": [
    "import pandas as pd\n",
    "import numpy as np\n",
    "import seaborn as sns\n",
    "import matplotlib.pyplot as plt"
   ]
  },
  {
   "cell_type": "code",
   "execution_count": 5,
   "metadata": {},
   "outputs": [],
   "source": [
    "import os"
   ]
  },
  {
   "cell_type": "code",
   "execution_count": 7,
   "metadata": {},
   "outputs": [
    {
     "data": {
      "text/plain": [
       "['other-Lyft_B02510.csv',\n",
       " 'other-FHV-services_jan-aug-2015.csv',\n",
       " 'other-Firstclass_B01536.csv',\n",
       " 'other-Skyline_B00111.csv',\n",
       " 'uber-raw-data-janjune-15_sample.csv',\n",
       " 'uber-raw-data-janjune-15.csv',\n",
       " 'other-American_B01362.csv',\n",
       " 'uber-raw-data-apr14.csv',\n",
       " 'Uber-Jan-Feb-FOIL.csv',\n",
       " 'other-Highclass_B01717.csv',\n",
       " 'uber-raw-data-aug14.csv',\n",
       " 'uber-raw-data-sep14.csv',\n",
       " 'uber-raw-data-jul14.csv',\n",
       " 'other-Federal_02216.csv',\n",
       " 'uber-raw-data-jun14.csv',\n",
       " 'other-Carmel_B00256.csv',\n",
       " 'other-Diplo_B01196.csv',\n",
       " 'other-Dial7_B00887.csv',\n",
       " 'uber-raw-data-may14.csv',\n",
       " 'other-Prestige_B01338.csv']"
      ]
     },
     "execution_count": 7,
     "metadata": {},
     "output_type": "execute_result"
    }
   ],
   "source": [
    "os.listdir(r\"/Users/aruzhanakbayeva/Desktop/new projects/uber/uber_dataset\")"
   ]
  },
  {
   "cell_type": "code",
   "execution_count": 11,
   "metadata": {},
   "outputs": [
    {
     "data": {
      "text/html": [
       "<div>\n",
       "<style scoped>\n",
       "    .dataframe tbody tr th:only-of-type {\n",
       "        vertical-align: middle;\n",
       "    }\n",
       "\n",
       "    .dataframe tbody tr th {\n",
       "        vertical-align: top;\n",
       "    }\n",
       "\n",
       "    .dataframe thead th {\n",
       "        text-align: right;\n",
       "    }\n",
       "</style>\n",
       "<table border=\"1\" class=\"dataframe\">\n",
       "  <thead>\n",
       "    <tr style=\"text-align: right;\">\n",
       "      <th></th>\n",
       "      <th>Dispatching_base_num</th>\n",
       "      <th>Pickup_date</th>\n",
       "      <th>Affiliated_base_num</th>\n",
       "      <th>locationID</th>\n",
       "    </tr>\n",
       "  </thead>\n",
       "  <tbody>\n",
       "    <tr>\n",
       "      <th>0</th>\n",
       "      <td>B02617</td>\n",
       "      <td>2015-05-02 21:43:00</td>\n",
       "      <td>B02764</td>\n",
       "      <td>237</td>\n",
       "    </tr>\n",
       "    <tr>\n",
       "      <th>1</th>\n",
       "      <td>B02682</td>\n",
       "      <td>2015-01-20 19:52:59</td>\n",
       "      <td>B02682</td>\n",
       "      <td>231</td>\n",
       "    </tr>\n",
       "    <tr>\n",
       "      <th>2</th>\n",
       "      <td>B02617</td>\n",
       "      <td>2015-03-19 20:26:00</td>\n",
       "      <td>B02617</td>\n",
       "      <td>161</td>\n",
       "    </tr>\n",
       "    <tr>\n",
       "      <th>3</th>\n",
       "      <td>B02764</td>\n",
       "      <td>2015-04-10 17:38:00</td>\n",
       "      <td>B02764</td>\n",
       "      <td>107</td>\n",
       "    </tr>\n",
       "    <tr>\n",
       "      <th>4</th>\n",
       "      <td>B02764</td>\n",
       "      <td>2015-03-23 07:03:00</td>\n",
       "      <td>B00111</td>\n",
       "      <td>140</td>\n",
       "    </tr>\n",
       "    <tr>\n",
       "      <th>...</th>\n",
       "      <td>...</td>\n",
       "      <td>...</td>\n",
       "      <td>...</td>\n",
       "      <td>...</td>\n",
       "    </tr>\n",
       "    <tr>\n",
       "      <th>99995</th>\n",
       "      <td>B02764</td>\n",
       "      <td>2015-04-13 16:12:00</td>\n",
       "      <td>B02764</td>\n",
       "      <td>234</td>\n",
       "    </tr>\n",
       "    <tr>\n",
       "      <th>99996</th>\n",
       "      <td>B02764</td>\n",
       "      <td>2015-03-06 21:32:00</td>\n",
       "      <td>B02764</td>\n",
       "      <td>24</td>\n",
       "    </tr>\n",
       "    <tr>\n",
       "      <th>99997</th>\n",
       "      <td>B02598</td>\n",
       "      <td>2015-03-19 19:56:00</td>\n",
       "      <td>B02598</td>\n",
       "      <td>17</td>\n",
       "    </tr>\n",
       "    <tr>\n",
       "      <th>99998</th>\n",
       "      <td>B02682</td>\n",
       "      <td>2015-05-02 16:02:00</td>\n",
       "      <td>B02682</td>\n",
       "      <td>68</td>\n",
       "    </tr>\n",
       "    <tr>\n",
       "      <th>99999</th>\n",
       "      <td>B02764</td>\n",
       "      <td>2015-06-24 16:04:00</td>\n",
       "      <td>B02764</td>\n",
       "      <td>125</td>\n",
       "    </tr>\n",
       "  </tbody>\n",
       "</table>\n",
       "<p>100000 rows × 4 columns</p>\n",
       "</div>"
      ],
      "text/plain": [
       "      Dispatching_base_num          Pickup_date Affiliated_base_num  \\\n",
       "0                   B02617  2015-05-02 21:43:00              B02764   \n",
       "1                   B02682  2015-01-20 19:52:59              B02682   \n",
       "2                   B02617  2015-03-19 20:26:00              B02617   \n",
       "3                   B02764  2015-04-10 17:38:00              B02764   \n",
       "4                   B02764  2015-03-23 07:03:00              B00111   \n",
       "...                    ...                  ...                 ...   \n",
       "99995               B02764  2015-04-13 16:12:00              B02764   \n",
       "99996               B02764  2015-03-06 21:32:00              B02764   \n",
       "99997               B02598  2015-03-19 19:56:00              B02598   \n",
       "99998               B02682  2015-05-02 16:02:00              B02682   \n",
       "99999               B02764  2015-06-24 16:04:00              B02764   \n",
       "\n",
       "       locationID  \n",
       "0             237  \n",
       "1             231  \n",
       "2             161  \n",
       "3             107  \n",
       "4             140  \n",
       "...           ...  \n",
       "99995         234  \n",
       "99996          24  \n",
       "99997          17  \n",
       "99998          68  \n",
       "99999         125  \n",
       "\n",
       "[100000 rows x 4 columns]"
      ]
     },
     "execution_count": 11,
     "metadata": {},
     "output_type": "execute_result"
    }
   ],
   "source": [
    "pd.read_csv(r\"/Users/aruzhanakbayeva/Desktop/new projects/uber/uber_dataset/uber-raw-data-janjune-15_sample.csv\")"
   ]
  }
 ],
 "metadata": {
  "kernelspec": {
   "display_name": "base",
   "language": "python",
   "name": "python3"
  },
  "language_info": {
   "codemirror_mode": {
    "name": "ipython",
    "version": 3
   },
   "file_extension": ".py",
   "mimetype": "text/x-python",
   "name": "python",
   "nbconvert_exporter": "python",
   "pygments_lexer": "ipython3",
   "version": "3.11.5"
  }
 },
 "nbformat": 4,
 "nbformat_minor": 2
}
